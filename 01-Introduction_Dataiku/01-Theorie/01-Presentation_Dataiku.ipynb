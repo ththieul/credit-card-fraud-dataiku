{
 "cells": [
  {
   "cell_type": "markdown",
   "id": "63c74000",
   "metadata": {},
   "source": [
    "![ai](https://scontent.fcdg1-1.fna.fbcdn.net/v/t1.6435-9/118600154_3984699468223263_4182911898048442019_n.png?_nc_cat=107&ccb=1-7&_nc_sid=973b4a&_nc_ohc=-BX9mep6k94AX-t31ve&_nc_ht=scontent.fcdg1-1.fna&oh=00_AfB7d7nJ93I88-nxdoGcWyrbVSA5tmNJpiEwcL1T9cSj6g&oe=64B27796)\n",
    "\n",
    "# Présentation de Dataiku 🐥"
   ]
  },
  {
   "cell_type": "markdown",
   "id": "d087c998",
   "metadata": {},
   "source": [
    "## Ce que vous apprendrez dans ce cours 🧐🧐"
   ]
  },
  {
   "cell_type": "markdown",
   "id": "5629cfde",
   "metadata": {},
   "source": [
    "L'importance des données en entreprise est aujourd'hui unanimement reconnue. \n",
    "\n",
    "La plateforme Dataiku vise à mettre le **Big Data et l'Intelligence Artificielle** à la portée de différents types d'utilisateurs (codeurs et non codeurs) au sein d'une entreprise. Les plates-formes d'analyse en libre-service permettent aux utilisateurs professionnels non techniques d'explorer les données de manière indépendante. Dans ce cours, nous aborderons :\n",
    "\n",
    "- Définition et enjeux du **Self Service Analytics**\n",
    "- Intérêt d'une approche **Self-Service** dans un projet Big Data\n",
    "- Présentation de Dataiku"
   ]
  },
  {
   "cell_type": "markdown",
   "id": "b6c5fccb",
   "metadata": {},
   "source": [
    "## Définition et enjeux du Self Service Analytics\n",
    "\n",
    "Avant d'étudier l'outil Dataiku lui-même, il est important de commencer par comprendre son positionnement. Dataiku appartient à la catégorie des outils \"Self-Service\".\n",
    "\n",
    "Le **Self Service** est un concept qui a été inventé par les éditeurs de logiciels de Data Science. Ce concept représente la démocratisation de la Data Science et sa disponibilité entre les mains des utilisateurs métiers.\n",
    "\n",
    "Cela signifie que lorsqu'un éditeur de logiciel dit vouloir \"rendre les données accessibles à tous\" (ce qui est l'ambition du Self-service), il dit qu'il veut :\n",
    "\n",
    "* permettre aux utilisateurs de pouvoir **acquérir des données** de n'importe quelle source, de différents formats, de différentes tailles sans aucune connaissance particulière des techniques de communication entre différents systèmes.\n",
    "* permettre à l'utilisateur d'**effectuer des opérations de transformation de données** et d'**utiliser des algorithmes statistiques** (par exemple, jointures de tables, création de nouvelles colonnes, nettoyage de données) sans aucune compétence particulière dans les techniques et les langages de manipulation de données"
   ]
  },
  {
   "cell_type": "markdown",
   "id": "72bc740f",
   "metadata": {},
   "source": [
    "## Intérêt d'une approche Self-Service dans un projet Big Data\n",
    "\n",
    "Malgré les défis mentionnés ci-dessus, adopter une approche en Self Service pour votre projet de données peut être utile. L'impact principal est qu'il permettra de **gagner du temps** dans l'utilisation des données. L'approche Self Service des projets data est née en réponse à deux facteurs :\n",
    "\n",
    "- **L'importance  excessive de l'informatique sur les données dans les entreprises **: dans l'intérêt de la gouvernance des systèmes d'information, l'accès aux données est souvent très restreint et soumis à des processus administratifs et technologiques stricts.\n",
    "- **L'exploitation et la valorisation des données nécessitent un mix de 2 types de compétences**: des compétences en méthodes d'exploitation des données (techniques de gestion des données et algorithmes statistiques) et des compétences métiers (ex. marketing, finance, etc.). **Self Service** vise à masquer la complexité d'utilisation et de programmation des algorithmes statistiques."
   ]
  },
  {
   "cell_type": "markdown",
   "id": "72051bc1",
   "metadata": {},
   "source": [
    "## Présentation de Dataiku\n",
    "Dataiku est un éditeur <u>français</u> qui se concentre exclusivement sur une approche en libre-service. La société a été fondée en 2013.\n",
    "\n",
    "Dataiku est une **solution complète et centralisée** de conception, de déploiement et de gestion d'applications d'analyse de données, de machine learning et d'intelligence artificielle. \n",
    "\n",
    "Son objectif est de répondre aux besoins des data scientists, data scientists, business analysts et développeurs IA. Contrairement aux solutions ETL (extract transform load) utilisées par les Data Engineers, Dataiku est utilisé pour préparer les données juste avant de créer un rapport ou une visualisation spécifique. \n",
    "\n",
    "Globalement, l'approche de Dataiku est de proposer une plateforme logicielle intégrée :\n",
    "\n",
    "* Les langages Open Source les plus utilisés en Data Science (R et Python),\n",
    "* Les bases de données relationnelles traditionnelles comme Oracle, Vertica ou MySQL,\n",
    "* Les bases de données NoSQL telles que Cassandra, MongoDB ou ElasticSearch,\n",
    "* Des outils de data Visualisation tels que Tableau ou des outils sur mesure avec la possibilité de créer vos propres tableaux de bord permettant la production d'un workflow (mobilisation de données, transformation de données, modélisation, indicateurs de suivi).\n",
    "\n",
    "![dataiku](https://data-analytics-fullstack-assets.s3.eu-west-3.amazonaws.com/M10-Predictive_Analysis/D01-Introduction_to_Dataiku/01-Presentation_of_Dataiku/d01_M01_introduction_to_dataiku_image_01.png)"
   ]
  },
  {
   "cell_type": "markdown",
   "id": "37d8e20a",
   "metadata": {},
   "source": [
    "## Ressources 📚📚\n",
    "- Qu'est-ce qu'une plateforme libre-service : https://www.servicenow.com/products/customer-service-management/what-is-self-service.html#:~:text=The%20definition%20of%20self%2Dservice,assistance%20from%20a%20service%20representative\n",
    "- Qu'est-ce que Dataiku : https://lookerstudio.google.com/u/0/reporting/f2462ddd-46bc-402e-b1fd-dde99f453004/page/SLaED/edit\n",
    "- Présentation Dataiku : https://doc.dataiku.com/dss/latest/"
   ]
  },
  {
   "cell_type": "code",
   "execution_count": null,
   "id": "e2048772",
   "metadata": {},
   "outputs": [],
   "source": []
  }
 ],
 "metadata": {
  "kernelspec": {
   "display_name": "Python 3 (ipykernel)",
   "language": "python",
   "name": "python3"
  },
  "language_info": {
   "codemirror_mode": {
    "name": "ipython",
    "version": 3
   },
   "file_extension": ".py",
   "mimetype": "text/x-python",
   "name": "python",
   "nbconvert_exporter": "python",
   "pygments_lexer": "ipython3",
   "version": "3.9.16+"
  }
 },
 "nbformat": 4,
 "nbformat_minor": 5
}
