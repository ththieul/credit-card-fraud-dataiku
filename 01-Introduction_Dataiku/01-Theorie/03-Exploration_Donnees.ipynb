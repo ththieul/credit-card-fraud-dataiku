{
 "cells": [
  {
   "cell_type": "markdown",
   "id": "49ea0818",
   "metadata": {},
   "source": [
    "![ai](https://scontent.fcdg1-1.fna.fbcdn.net/v/t1.6435-9/118600154_3984699468223263_4182911898048442019_n.png?_nc_cat=107&ccb=1-7&_nc_sid=973b4a&_nc_ohc=-BX9mep6k94AX-t31ve&_nc_ht=scontent.fcdg1-1.fna&oh=00_AfB7d7nJ93I88-nxdoGcWyrbVSA5tmNJpiEwcL1T9cSj6g&oe=64B27796)\n",
    "\n",
    "# Explorez vos données 🕵🏻‍♂️"
   ]
  },
  {
   "cell_type": "markdown",
   "id": "0ab2ed9e",
   "metadata": {},
   "source": [
    "## Ce que vous apprendrez dans ce cours 🧐🧐\n",
    "\n",
    "Dataiku est un outil vraiment puissant qui permet à différents utilisateurs de créer de la valeur à partir des données. Les projets sont au cœur de Dataiku. Ce cours couvrira :\n",
    "\n",
    "* comment se connecter à Dataiku et créer un projet\n",
    "* comment collaborer au sein de Dataiku\n",
    "* comment vous explorez l'objet Dataiku"
   ]
  },
  {
   "cell_type": "markdown",
   "id": "75310e80",
   "metadata": {},
   "source": [
    "## Jeu de données dans Dataiku"
   ]
  },
  {
   "cell_type": "markdown",
   "id": "9a477d1a",
   "metadata": {},
   "source": [
    "Les données structurées sont une série d'enregistrements avec le même schéma. \n",
    "\n",
    "Dans Dataiku DSS, ces données sont appelées dataset. Un dataset dans Dataiku peut être n'importe quel élément de données dans un format tabulaire. \n",
    "\n",
    "Exemples d'ensembles de données Dataiku possibles : \n",
    "- une feuille de calcul Excel téléchargée \n",
    "- une table SQL \n",
    "- un dossier de fichiers de données sur un cluster Hadoop \n",
    "- un fichier CSV dans le cloud, tel qu'un bucket Amazon S3\n",
    "\n",
    "Dataiku représentera tous ces exemples dans un projet avec un carré bleu avec l'icône correspondant au type du jeu de données source.\n",
    "![](https://data-analytics-fullstack-assets.s3.eu-west-3.amazonaws.com/M10-Predictive_Analysis/D01-Introduction_to_Dataiku/03-Explore_your_data/d01_M03_introduction_to_dataiku_image_01.png)"
   ]
  },
  {
   "cell_type": "markdown",
   "id": "9971b920",
   "metadata": {},
   "source": [
    "Quelles que soient les origines du dataset source, les méthodes d'interaction avec n'importe quel dataset Dataiku sont les mêmes. Vous pouvez lire, écrire, visualiser et manipuler des datasets dans Dataiku en utilisant les mêmes méthodes.\n",
    "![](https://data-analytics-fullstack-assets.s3.eu-west-3.amazonaws.com/M10-Predictive_Analysis/D01-Introduction_to_Dataiku/03-Explore_your_data/d01_M03_introduction_to_dataiku_image_02bis.png)"
   ]
  },
  {
   "cell_type": "markdown",
   "id": "e8e46638",
   "metadata": {},
   "source": [
    "La création d'un dataset dans Dataiku signifie que l'utilisateur informe simplement Dataiku de la manière dont il peut accéder aux données à partir d'une connexion particulière. \n",
    "\n",
    "Dataiku se souvient de l'emplacement et sources des datasets externes. Les données ne sont pas copiées dans Dataiku. Le dataset dans Dataiku est plutôt une vue des données du système d'origine. Seul un échantillon des données, tel que configuré par l'utilisateur, est transféré via le navigateur.\n",
    "\n",
    "![](https://data-analytics-fullstack-assets.s3.eu-west-3.amazonaws.com/M10-Predictive_Analysis/D01-Introduction_to_Dataiku/03-Explore_your_data/d01_M03_introduction_to_dataiku_image_03.png)"
   ]
  },
  {
   "cell_type": "markdown",
   "id": "eefd1e96",
   "metadata": {},
   "source": [
    "L'exemple de flux suivant inclut différents types d'ensembles de données, tels qu'un fichier téléchargé, une table dans une base de données SQL et des ensembles de données de stockage dans le cloud.\n",
    "\n",
    "![](https://data-analytics-fullstack-assets.s3.eu-west-3.amazonaws.com/M10-Predictive_Analysis/D01-Introduction_to_Dataiku/03-Explore_your_data/d01_M03_introduction_to_dataiku_image_03.png)"
   ]
  },
  {
   "cell_type": "markdown",
   "id": "ea124a90",
   "metadata": {},
   "source": [
    "## Connexion dans Dataiku\n",
    "\n",
    "La logique de traitement qui agit sur un jeu de données DSS est découplée de son infrastructure de stockage sous-jacente. La manière dont DSS gère les connexions contribue à rendre cela possible.\n",
    "\n",
    "Vous pouvez importer un nouveau jeu de données dans un projet en téléchargeant vos propres fichiers ou en accédant aux données via n'importe quelle connexion précédemment établie.\n",
    "![](https://data-analytics-fullstack-assets.s3.eu-west-3.amazonaws.com/M10-Predictive_Analysis/D01-Introduction_to_Dataiku/03-Explore_your_data/d01_M03_introduction_to_dataiku_image_04.png)"
   ]
  },
  {
   "cell_type": "markdown",
   "id": "391074e8",
   "metadata": {},
   "source": [
    "![](https://data-analytics-fullstack-assets.s3.eu-west-3.amazonaws.com/M10-Predictive_Analysis/D01-Introduction_to_Dataiku/03-Explore_your_data/d01_M03_introduction_to_dataiku_image_05.png)"
   ]
  },
  {
   "cell_type": "markdown",
   "id": "d1e5946b",
   "metadata": {},
   "source": [
    "Les utilisateurs administrateurs ont la possibilité de gérer les connexions sur une instance à partir d'un emplacement centralisé. \n",
    "\n",
    "À partir de là, ils peuvent contrôler des paramètres tels que les informations d'identification, les paramètres de sécurité, les règles de dénomination et les paramètres d'utilisation.\n",
    "\n",
    "L'un des avantages de ce système est une répartition plus claire du travail entre ceux qui gèrent les connexions de données et ceux qui travaillent avec les données.\n",
    "\n",
    "![](https://data-analytics-fullstack-assets.s3.eu-west-3.amazonaws.com/M10-Predictive_Analysis/D01-Introduction_to_Dataiku/03-Explore_your_data/d01_M03_introduction_to_dataiku_image_06.png)"
   ]
  },
  {
   "cell_type": "markdown",
   "id": "f0ece6be",
   "metadata": {},
   "source": [
    "## Ressources 📚📚\n",
    "\n",
    "- Documentation de connexion Dataiku : https://knowledge.dataiku.com/latest/data-sourcing-analysis/connections/concept-connection\n",
    "- Documentation du jeu de données Dataiku : https://knowledge.dataiku.com/latest/data-sourcing-analysis/datasets/concept-datasets.html\n",
    "- Documentation de l'API de l'ensemble de données Dataiku : https://doc.dataiku.com/dss/latest/python-api/datasets.html"
   ]
  },
  {
   "cell_type": "code",
   "execution_count": null,
   "id": "2f88f495",
   "metadata": {},
   "outputs": [],
   "source": []
  }
 ],
 "metadata": {
  "kernelspec": {
   "display_name": "Python 3 (ipykernel)",
   "language": "python",
   "name": "python3"
  },
  "language_info": {
   "codemirror_mode": {
    "name": "ipython",
    "version": 3
   },
   "file_extension": ".py",
   "mimetype": "text/x-python",
   "name": "python",
   "nbconvert_exporter": "python",
   "pygments_lexer": "ipython3",
   "version": "3.9.16+"
  }
 },
 "nbformat": 4,
 "nbformat_minor": 5
}
