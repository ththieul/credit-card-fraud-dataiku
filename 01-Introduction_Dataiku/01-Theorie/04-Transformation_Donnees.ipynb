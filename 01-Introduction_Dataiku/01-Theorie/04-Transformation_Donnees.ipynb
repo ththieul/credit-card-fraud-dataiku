{
 "cells": [
  {
   "cell_type": "markdown",
   "id": "0c5a60e2",
   "metadata": {},
   "source": [
    "![ai](https://scontent.fcdg1-1.fna.fbcdn.net/v/t1.6435-9/118600154_3984699468223263_4182911898048442019_n.png?_nc_cat=107&ccb=1-7&_nc_sid=973b4a&_nc_ohc=-BX9mep6k94AX-t31ve&_nc_ht=scontent.fcdg1-1.fna&oh=00_AfB7d7nJ93I88-nxdoGcWyrbVSA5tmNJpiEwcL1T9cSj6g&oe=64B27796)\n",
    "\n",
    "# Transformez vos données 🕵🏻‍♂️"
   ]
  },
  {
   "cell_type": "markdown",
   "id": "1fb4c600",
   "metadata": {},
   "source": [
    "## Ce que vous apprendrez dans ce cours 🧐🧐\n",
    "\n",
    "La transformation des données est le processus consistant à appliquer peu ou beaucoup de modifications (c'est vous qui décidez !) aux données pour les rendre précieuses pour vous. Les transformations de données peuvent être compliquées à écrire et peuvent nécessiter l'utilisation de lignes de code. \n",
    "\n",
    "La force de Dataiku est de donner la possibilité à des non codeurs de pouvoir transformer des données. Ce que vous apprendrez dans ce cours :\n",
    "\n",
    "- Qu'est-ce qu'un flow ?\n",
    "- Qu'est-ce qu'un recipe ?\n",
    "- Comment utiliser un recipe ?"
   ]
  },
  {
   "cell_type": "markdown",
   "id": "fd82f30a",
   "metadata": {},
   "source": [
    "## Le flow (flux) dans Dataiku\n",
    "\n",
    "Le flow est la représentation visuelle de votre pipeline de projet. \n",
    "\n",
    "À ce stade du projet, il ne contient que six jeux de données et deux recettes (recipe). Vous pouvez accéder au flow via le premier menu à droite du titre du projet. Vous pouvez également utiliser le raccourci clavier (G+F).\n",
    "\n",
    "![](https://data-analytics-fullstack-assets.s3.eu-west-3.amazonaws.com/M10-Predictive_Analysis/D01-Introduction_to_Dataiku/04-Transform_your_data/d01_M04_introduction_to_dataiku_image_01.png)"
   ]
  },
  {
   "cell_type": "markdown",
   "id": "35e71ea6",
   "metadata": {},
   "source": [
    "## Les recipes (recettes) dans Dataiku\n",
    "Les recipes dans Dataiku contiennent les étapes de transformation, ou la logique de traitement, qui agissent sur les jeux de données. \n",
    "\n",
    "Dans un projet, les carrés bleus représentent des jeux de données. Les cercles jaune, orange et rouge, en revanche, qui relient les ensembles de données les uns aux autres, représentent des recettes.\n",
    "\n",
    "![](https://data-analytics-fullstack-assets.s3.eu-west-3.amazonaws.com/M10-Predictive_Analysis/D01-Introduction_to_Dataiku/04-Transform_your_data/d01_M04_introduction_to_dataiku_image_02.png)"
   ]
  },
  {
   "cell_type": "markdown",
   "id": "c506ba15",
   "metadata": {},
   "source": [
    "Un cercle dans le flow représente une recipe, mais sa couleur représente la catégorie de recipes. Les recipes Dataiku peuvent être divisées en recipes visuelles, de code ou de plug-in.\n",
    "\n",
    "Les recipes visuelles (en jaune) accomplissent les opérations de transformation de données les plus courantes, telles que le nettoyage, le regroupement et le filtrage, via une interface utilisateur graphique prédéfinie.\n",
    "\n",
    "![](https://data-analytics-fullstack-assets.s3.eu-west-3.amazonaws.com/M10-Predictive_Analysis/D01-Introduction_to_Dataiku/04-Transform_your_data/d01_M04_introduction_to_dataiku_image_03.png)"
   ]
  },
  {
   "cell_type": "markdown",
   "id": "a115d910",
   "metadata": {},
   "source": [
    "Au lieu d'une recipe visuelle prédéfinie, vous êtes libre de définir votre propre logique de traitement dans une recette de code (en orange), en utilisant un langage tel que Python, R ou SQL.\n",
    "\n",
    "![](https://data-analytics-fullstack-assets.s3.eu-west-3.amazonaws.com/M10-Predictive_Analysis/D01-Introduction_to_Dataiku/04-Transform_your_data/d01_M04_introduction_to_dataiku_image_04.png)"
   ]
  },
  {
   "cell_type": "markdown",
   "id": "c7bf1629",
   "metadata": {},
   "source": [
    "La troisième catégorie de recipe est le \"plugin recipe\" (généralement en rouge). Une discussion complète des plugins au sein de Dataiku serait impossible. \n",
    "\n",
    "Mais en bref, les recettes de code vous donnent une liberté totale pour effectuer n'importe quelle tâche de traitement de données, et les recettes visuelles peuvent être utilisées et comprises par tous les membres de votre équipe."
   ]
  },
  {
   "cell_type": "markdown",
   "id": "3abbb28a",
   "metadata": {},
   "source": [
    "## Préparer une \"recipe\"\n"
   ]
  },
  {
   "cell_type": "markdown",
   "id": "641d231a",
   "metadata": {},
   "source": [
    "La recipe \"Prepare\" est une recette visuelle dans Dataiku qui vous permet de créer des scripts de nettoyage, de normalisation et d'enrichissement des données de manière interactive. Ceci est réalisé en assemblant une série d'étapes de transformation à partir d'une bibliothèque de plus de 100 threads de traitements.\n",
    "\n",
    "La plupart des threads de traitements sont conçus pour gérer une tâche spécifique, comme le filtrage des lignes, l'arrondi des nombres, l'extraction des expressions régulières, la concaténation ou le fractionnement des colonnes, et bien plus encore."
   ]
  },
  {
   "cell_type": "markdown",
   "id": "a04ff6da",
   "metadata": {},
   "source": [
    "![](https://data-analytics-fullstack-assets.s3.eu-west-3.amazonaws.com/M10-Predictive_Analysis/D01-Introduction_to_Dataiku/04-Transform_your_data/d01_M04_introduction_to_dataiku_image_06.png)"
   ]
  },
  {
   "cell_type": "markdown",
   "id": "6d3c40c6",
   "metadata": {},
   "source": [
    "Outre l'ajout direct d'étapes à partir de la bibliothèque de traitements, vous pouvez ajouter des étapes au script de plusieurs autres manières. \n",
    "\n",
    "Dans le menu contextuel de la colonne, Dataiku proposera des étapes à ajouter en fonction de la signification de la colonne. Par exemple, Dataiku proposera de supprimer les lignes avec des valeurs invalides en fonction de la signification de la colonne."
   ]
  },
  {
   "cell_type": "markdown",
   "id": "386e6e74",
   "metadata": {},
   "source": [
    "![](https://data-analytics-fullstack-assets.s3.eu-west-3.amazonaws.com/M10-Predictive_Analysis/D01-Introduction_to_Dataiku/04-Transform_your_data/d01_M04_introduction_to_dataiku_image_07.png)"
   ]
  },
  {
   "cell_type": "markdown",
   "id": "82949597",
   "metadata": {},
   "source": [
    "Une autre méthode pour ajouter des étapes au script consiste à utiliser la fenêtre Analyser. Dans une recette Prépare, la fenêtre Analyser peut guider la préparation des données, par exemple en fusionnant des valeurs catégorielles.\n",
    "\n",
    "![](https://data-analytics-fullstack-assets.s3.eu-west-3.amazonaws.com/M10-Predictive_Analysis/D01-Introduction_to_Dataiku/04-Transform_your_data/d01_M04_introduction_to_dataiku_image_08.png)"
   ]
  },
  {
   "cell_type": "markdown",
   "id": "1e602802",
   "metadata": {},
   "source": [
    "Lors de l'ajout de nouvelles étapes au script, vous remarquerez que la sortie de l'étape est immédiatement visible. \n",
    "\n",
    "Cela est possible car l'étape est appliquée au même échantillon de jeu de données trouvé dans l'onglet Explorer."
   ]
  },
  {
   "cell_type": "markdown",
   "id": "3326886a",
   "metadata": {},
   "source": [
    "![](https://data-analytics-fullstack-assets.s3.eu-west-3.amazonaws.com/M10-Predictive_Analysis/D01-Introduction_to_Dataiku/04-Transform_your_data/d01_M04_introduction_to_dataiku_image_09.png)"
   ]
  },
  {
   "cell_type": "markdown",
   "id": "39047ead",
   "metadata": {},
   "source": [
    "Notez que les étapes du script constituent une liste d'instructions. \n",
    "\n",
    "Ces instructions ne sont pas immédiatement appliquées au jeu de données lui-même. Par exemple, l'ajout d'une étape \"Supprimer la colonne\" supprime cette colonne de l'aperçu de l'étape, mais ne supprime pas réellement la colonne dans le jeu de données, comme ce serait le cas dans une feuille de calcul. \n",
    "\n",
    "Ce n'est que lorsque vous choisissez d'exécuter réellement la recipe que Dataiku exécutera les instructions sur l'ensemble de données d'entrée complet, et produira ainsi un nouvel ensemble de données de sortie.\n",
    "\n",
    "Si un script commence à gagner en complexité, un certain nombre de fonctionnalités peuvent vous aider à le gérer.\n",
    "\n",
    "- Vous pouvez désactiver les étapes.\n",
    "- Vous pouvez organiser les étapes individuelles en groupes d'étapes.\n",
    "- Vous pouvez ajouter des couleurs et des commentaires aux étapes afin de vous envoyer des rappels à vous-même et à vos collègues.\n",
    "- Vous pouvez même copier et coller des étapes dans la même recipe ou dans une autre recipe, même si cette recipe se trouve dans un autre projet ou une autre instance DSS."
   ]
  },
  {
   "cell_type": "markdown",
   "id": "2603a17a",
   "metadata": {},
   "source": [
    "![](https://data-analytics-fullstack-assets.s3.eu-west-3.amazonaws.com/M10-Predictive_Analysis/D01-Introduction_to_Dataiku/04-Transform_your_data/d01_M04_introduction_to_dataiku_image_10.png)"
   ]
  },
  {
   "cell_type": "markdown",
   "id": "c3ccd0c4",
   "metadata": {},
   "source": [
    "Le calcul a un coût. Dans Dataiku DSS, il existe des stratégies de calcul qui aident à réduire ce coût. \n",
    "\n",
    "Dataiku peut effectuer le calcul à l'aide du moteur DSS ou pousser le calcul vers des moteurs externes. \n",
    "\n",
    "Dataiku agit en tant qu'orchestrateur."
   ]
  },
  {
   "cell_type": "markdown",
   "id": "9bc0354c",
   "metadata": {},
   "source": [
    "![](https://data-analytics-fullstack-assets.s3.eu-west-3.amazonaws.com/M10-Predictive_Analysis/D01-Introduction_to_Dataiku/04-Transform_your_data/d01_M04_introduction_to_dataiku_image_11.png)"
   ]
  },
  {
   "cell_type": "markdown",
   "id": "840f05bc",
   "metadata": {},
   "source": [
    "Lors de la transformation de votre ensemble de données, vous travaillez en fait avec un échantillon de celui-ci. \n",
    "\n",
    "Lorsque vous êtes prêt à appliquer les étapes de transformation à l'ensemble du jeu de données, cliquez sur Exécuter. \n",
    "\n",
    "Ensuite, vous pouvez sélectionner un moteur de calcul qui correspond le mieux au stockage de données sous-jacent et à l'opération que vous appliquez au jeu de données.\n",
    "\n",
    "![](https://data-analytics-fullstack-assets.s3.eu-west-3.amazonaws.com/M10-Predictive_Analysis/D01-Introduction_to_Dataiku/04-Transform_your_data/d01_M04_introduction_to_dataiku_image_12.png)"
   ]
  },
  {
   "cell_type": "markdown",
   "id": "3306ec2b",
   "metadata": {},
   "source": [
    "### Ressources 📚📚\n",
    "- Notion de recette : https://knowledge.dataiku.com/latest/courses/basics/prepare-data/concept-recipe.html\n",
    "- Préparer la recette : https://knowledge.dataiku.com/latest/courses/basics/prepare-data/concept-prepare-recipe.html\n",
    "- Préparation des données : https://doc.dataiku.com/dss/latest/preparation/index.html\n",
    "- Recettes visuelles : https://doc.dataiku.com/dss/latest/other_recipes/index.html\n",
    "- Moteurs de calcul : https://knowledge.dataiku.com/latest/courses/basics/explore-flow/concept-computation-engine.html"
   ]
  },
  {
   "cell_type": "code",
   "execution_count": null,
   "id": "78aa7875",
   "metadata": {},
   "outputs": [],
   "source": []
  }
 ],
 "metadata": {
  "kernelspec": {
   "display_name": "Python 3 (ipykernel)",
   "language": "python",
   "name": "python3"
  },
  "language_info": {
   "codemirror_mode": {
    "name": "ipython",
    "version": 3
   },
   "file_extension": ".py",
   "mimetype": "text/x-python",
   "name": "python",
   "nbconvert_exporter": "python",
   "pygments_lexer": "ipython3",
   "version": "3.9.16+"
  }
 },
 "nbformat": 4,
 "nbformat_minor": 5
}
