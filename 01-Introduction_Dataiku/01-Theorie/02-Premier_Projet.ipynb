{
 "cells": [
  {
   "cell_type": "markdown",
   "id": "0d1a44d9",
   "metadata": {},
   "source": [
    "![ai](https://scontent.fcdg1-1.fna.fbcdn.net/v/t1.6435-9/118600154_3984699468223263_4182911898048442019_n.png?_nc_cat=107&ccb=1-7&_nc_sid=973b4a&_nc_ohc=-BX9mep6k94AX-t31ve&_nc_ht=scontent.fcdg1-1.fna&oh=00_AfB7d7nJ93I88-nxdoGcWyrbVSA5tmNJpiEwcL1T9cSj6g&oe=64B27796)\n",
    "\n",
    "# Votre premier projet Dataiku 🕹️"
   ]
  },
  {
   "cell_type": "markdown",
   "id": "780bc956",
   "metadata": {},
   "source": [
    "## Ce que vous apprendrez dans ce cours 🧐🧐\n",
    "\n",
    "Dataiku est un outil vraiment puissant qui permet à différents utilisateurs de créer de la valeur à partir des données. Les projets sont au cœur de Dataiku. Ce cours couvrira :\n",
    "\n",
    "- Comment se connecter à Dataiku et créer un projet\n",
    "- Comment collaborer au sein de Dataiku\n",
    "- Comment explorer Dataiku"
   ]
  },
  {
   "cell_type": "markdown",
   "id": "66739f8e",
   "metadata": {},
   "source": [
    "## Connectez-vous à votre instance Dataiku\n",
    "\n",
    "Il existe deux moyens d'utiliser Dataiku : \n",
    "* En se connectant sur la version en ligne (hébergée sur les serveurs Dataiku)\n",
    "* Installer Dataiku en local sur son PC portable ou un serveur"
   ]
  },
  {
   "cell_type": "markdown",
   "id": "c884960b",
   "metadata": {},
   "source": [
    "## Projet Dataiku\n",
    "\n",
    "Une fois connecté, vous êtes redirigé vers la page d'accueil de Dataiku DSS. La page d'accueil est conçue pour afficher en évidence les informations les plus pertinentes pour vous. Vous verrez sur la page d'accueil tous les projets auxquels vous avez accès.\n",
    "![](https://data-analytics-fullstack-assets.s3.eu-west-3.amazonaws.com/M10-Predictive_Analysis/D01-Introduction_to_Dataiku/02-Your_first_Dataiku_project/d01_M01_introduction_to_dataiku_image_03.png)"
   ]
  },
  {
   "cell_type": "markdown",
   "id": "13809685",
   "metadata": {},
   "source": [
    "Vous pouvez cliquer sur _Nouveau projet > Exemple de projet > Dataiku TShirts_ puis cliquer sur le projet.\n",
    "\n",
    "![](./assets/Sélection_178.png)"
   ]
  },
  {
   "cell_type": "markdown",
   "id": "df94ad73",
   "metadata": {},
   "source": [
    "Félicitations, vous venez de créer votre premier projet Dataiku !\n",
    "\n",
    "Le projet est votre tableau de bord Dataiku. Il contient tout votre travail sur une activité spécifique. Les projets sont créés à partir de la page d'accueil et peuvent être organisés en dossiers de projets.\n",
    "\n",
    "![](./assets/Sélection_179.png)"
   ]
  },
  {
   "cell_type": "markdown",
   "id": "5e431b38",
   "metadata": {},
   "source": [
    "La page d'accueil du projet fait office de _centre de commande_ à partir duquel vous pouvez voir l'état général d'un projet, afficher l'activité récente et collaborer via des commentaires, des balises et une liste de tâches du projet. \n",
    "\n",
    "![](./assets/Sélection_180.png)\n",
    "\n",
    "Depuis le menu Actions, vous pouvez :\n",
    "\n",
    "- Dupliquer un projet\n",
    "- Exporter un projet vers un fichier ZIP\n",
    "- Supprimer un projet\n",
    "\n",
    "![](./assets/Sélection_181.png)"
   ]
  },
  {
   "cell_type": "markdown",
   "id": "f2242164",
   "metadata": {},
   "source": [
    "Un projet Dataiku DSS est un conteneur pour tout votre travail sur une activité particulière. Chaque projet a un seul flux qui montre le pipeline de jeux de données et de recettes associés au projet."
   ]
  },
  {
   "cell_type": "markdown",
   "id": "f46c562d",
   "metadata": {},
   "source": [
    "## Collaboration dans Dataiku"
   ]
  },
  {
   "cell_type": "markdown",
   "id": "2368810d",
   "metadata": {},
   "source": [
    "La collaboration est un *concept clé* au sein de Dataiku. Vous et les membres de votre équipe pouvez travailler sur le même projet en même temps.\n",
    "\n",
    "Disons que vous invitez un collègue à travailler sur un projet où il y a déjà plusieurs collaborateurs. Votre collègue peut vouloir identifier le nom, l'objectif et le statut du projet, ou il peut vouloir lire un wiki qui présente le projet. Dataiku DSS fournit divers outils, tels que des **wikis, des balises, des discussions, des listes de tâches et des tableaux de bord** qui permettent une collaboration efficace au sein d'une équipe.\n",
    "\n",
    "Vous pouvez suivre certaines étapes pour préparer un projet de collaboration. En commençant par la dénomination, vous voudriez adopter une convention de nommage.\n",
    "\n",
    "Une autre bonne pratique pour une collaboration efficace consiste à ajouter un wiki de projet (à l'aide de Markdown) auquel les membres de l'équipe peuvent accéder depuis la page d'accueil du projet.\n",
    "\n",
    "![](./assets/Sélection_182.png)"
   ]
  },
  {
   "cell_type": "markdown",
   "id": "037149f7",
   "metadata": {},
   "source": [
    "Il existe également des discussions, qui sont utiles pour démarrer des conversations rapides, poser des questions ou faire des commentaires. Vos discussions sont conservées directement dans le projet !\n",
    "\n",
    "![](./assets/Sélection_183.png)"
   ]
  },
  {
   "cell_type": "markdown",
   "id": "0450e35f",
   "metadata": {},
   "source": [
    "## Ressources 📚📚\n",
    "\n",
    "- Documentation officielle du projet Dataiku : https://www.servicenow.com/products/customer-service-management/what-is-self-service.html#:~:text=The%20definition%20of%20self%2Dservice,assistance%20from%20a%20service%20representative\n",
    "- Projet Dataiku - académie dataiku : https://www.servicenow.com/products/customer-service-management/what-is-self-service.html#:~:text=The%20definition%20of%20self%2Dservice,assistance%20from%20a%20service%20representative"
   ]
  },
  {
   "cell_type": "code",
   "execution_count": null,
   "id": "448b2acc",
   "metadata": {},
   "outputs": [],
   "source": []
  }
 ],
 "metadata": {
  "kernelspec": {
   "display_name": "Python 3 (ipykernel)",
   "language": "python",
   "name": "python3"
  },
  "language_info": {
   "codemirror_mode": {
    "name": "ipython",
    "version": 3
   },
   "file_extension": ".py",
   "mimetype": "text/x-python",
   "name": "python",
   "nbconvert_exporter": "python",
   "pygments_lexer": "ipython3",
   "version": "3.9.16+"
  }
 },
 "nbformat": 4,
 "nbformat_minor": 5
}
