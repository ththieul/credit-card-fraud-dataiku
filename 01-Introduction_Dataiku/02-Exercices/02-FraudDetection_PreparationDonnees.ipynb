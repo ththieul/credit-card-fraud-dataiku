{
 "cells": [
  {
   "cell_type": "markdown",
   "id": "ffd21054",
   "metadata": {},
   "source": [
    "![ai](https://scontent.fcdg1-1.fna.fbcdn.net/v/t1.6435-9/118600154_3984699468223263_4182911898048442019_n.png?_nc_cat=107&ccb=1-7&_nc_sid=973b4a&_nc_ohc=-BX9mep6k94AX-t31ve&_nc_ht=scontent.fcdg1-1.fna&oh=00_AfB7d7nJ93I88-nxdoGcWyrbVSA5tmNJpiEwcL1T9cSj6g&oe=64B27796)\n",
    "\n",
    "# Détection de fraude :Préparez vos données 🗺️"
   ]
  },
  {
   "cell_type": "markdown",
   "id": "81f8343e",
   "metadata": {},
   "source": [
    "## Contexte"
   ]
  },
  {
   "cell_type": "markdown",
   "id": "dd5e3dca",
   "metadata": {},
   "source": [
    "La préparation des données (également appelée « prétraitement des données ») est le processus de transformation des données brutes afin que les data scientists et data analysts puissent les utiliser via des algorithmes d'apprentissage automatique pour faire des prédictions. \n",
    "\n",
    "La préparation des données joue un rôle clé dans la construction d'un modèle d'apprentissage automatique efficace. En effet, la plupart des algorithmes d'apprentissage automatique nécessitent que les données soient formatées d'une manière très spécifique, de sorte que les jeux de données nécessitent généralement une certaine préparation avant de pouvoir fournir des informations utiles.\n",
    "\n",
    "Dans cet exercice, nous allons utiliser Dataiku et créer notre premier projet pour préparer les données de la société Elo. Elo est une société brésilienne de cartes de paiement.\n",
    "\n",
    "Nous préparerons des données afin de créer un modèle d'apprentissage automatique pour prévenir la fraude par carte de crédit. Nous allons travailler avec trois jeux de données différents :\n",
    "\n",
    "- Credit Card Transactions (January 2017 - April 2018)\n",
    "- Cardholder Data\n",
    "- Merchant Data\n",
    "\n",
    "![](https://data-analytics-fullstack-assets.s3.eu-west-3.amazonaws.com/M10-Predictive_Analysis/D01-Introduction_to_Dataiku/Exercices/d01_TD01_introduction_to_dataiku_image_01.png)"
   ]
  },
  {
   "cell_type": "markdown",
   "id": "dce20487",
   "metadata": {},
   "source": [
    "## PARTIE II : Préparez vos données"
   ]
  },
  {
   "cell_type": "markdown",
   "id": "1b28f21f",
   "metadata": {},
   "source": [
    "### Etape 1 "
   ]
  },
  {
   "cell_type": "markdown",
   "id": "0ef230a7",
   "metadata": {},
   "source": [
    "Créez un nouveau jeu de données transactions_prepared qui est le résultat d'une recette de préparation comme suit : \n",
    "- Créez des fonctionnalités basées sur le temps parse dates : card_first_active_month et purchase_date\n",
    "- Extraire les composants de date de purchase_date_parsed (année, mois, jour, heure de fin)\n",
    "- Créer une colonne buy_weekend (sat/dim) à l'aide d'une formule DSS\n",
    "- Créez une colonne days_active : la durée entre le premier_mois_actif du titulaire de la carte et la date_d'achat\n"
   ]
  },
  {
   "cell_type": "markdown",
   "id": "e5ed72e9",
   "metadata": {},
   "source": [
    "### Etape 2"
   ]
  },
  {
   "cell_type": "markdown",
   "id": "8545e494",
   "metadata": {},
   "source": [
    "Créer des fonctionnalités de géolocalisation\n",
    "- marchand_location en utilisant la latitude et la longitude du marchand\n",
    "- cardholder_location en utilisant la latitude et la longitude du titulaire de la carte\n"
   ]
  },
  {
   "cell_type": "markdown",
   "id": "0384e2f0",
   "metadata": {},
   "source": [
    "### Etape 3"
   ]
  },
  {
   "cell_type": "markdown",
   "id": "8e678554",
   "metadata": {},
   "source": [
    "Faire un géocodage inversé. Pensez à installer si ce n'est déjà fait le plugin **Reverse Geocoding**\n",
    "- marchand_location pour obtenir le marchand_state\n",
    "- cardholder_location pour obtenir le cardholder_state\n"
   ]
  },
  {
   "cell_type": "markdown",
   "id": "f401d700",
   "metadata": {},
   "source": [
    "### Etape 4"
   ]
  },
  {
   "cell_type": "markdown",
   "id": "ddff074a",
   "metadata": {},
   "source": [
    "Créez une nouvelle colonne marchand_cardholder_distance la distance entre l'emplacement de la carte et l'emplacement du marchand La transformation finale devrait ressembler à ceci :\n",
    "\n",
    "![](https://data-analytics-fullstack-assets.s3.eu-west-3.amazonaws.com/M10-Predictive_Analysis/D01-Introduction_to_Dataiku/Exercices/d01_TD02_introduction_to_dataiku_image_01.png)"
   ]
  },
  {
   "cell_type": "markdown",
   "id": "a2c2c17f",
   "metadata": {},
   "source": [
    "## Flow à implémenter"
   ]
  },
  {
   "cell_type": "markdown",
   "id": "de90b057",
   "metadata": {},
   "source": [
    "![](https://data-analytics-fullstack-assets.s3.eu-west-3.amazonaws.com/M10-Predictive_Analysis/D01-Introduction_to_Dataiku/Exercices/d01_TD02_introduction_to_dataiku_image_02.png)"
   ]
  },
  {
   "cell_type": "code",
   "execution_count": null,
   "id": "18425f5b",
   "metadata": {},
   "outputs": [],
   "source": []
  }
 ],
 "metadata": {
  "kernelspec": {
   "display_name": "Python 3 (ipykernel)",
   "language": "python",
   "name": "python3"
  },
  "language_info": {
   "codemirror_mode": {
    "name": "ipython",
    "version": 3
   },
   "file_extension": ".py",
   "mimetype": "text/x-python",
   "name": "python",
   "nbconvert_exporter": "python",
   "pygments_lexer": "ipython3",
   "version": "3.9.16+"
  }
 },
 "nbformat": 4,
 "nbformat_minor": 5
}
