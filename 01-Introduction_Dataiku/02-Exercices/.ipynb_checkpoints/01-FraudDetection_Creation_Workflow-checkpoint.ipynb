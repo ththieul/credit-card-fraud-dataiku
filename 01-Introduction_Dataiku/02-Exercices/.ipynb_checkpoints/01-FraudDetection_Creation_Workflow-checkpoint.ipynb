{
 "cells": [
  {
   "cell_type": "markdown",
   "id": "9128f3b0",
   "metadata": {},
   "source": [
    "![ai](https://scontent.fcdg1-1.fna.fbcdn.net/v/t1.6435-9/118600154_3984699468223263_4182911898048442019_n.png?_nc_cat=107&ccb=1-7&_nc_sid=973b4a&_nc_ohc=-BX9mep6k94AX-t31ve&_nc_ht=scontent.fcdg1-1.fna&oh=00_AfB7d7nJ93I88-nxdoGcWyrbVSA5tmNJpiEwcL1T9cSj6g&oe=64B27796)\n",
    "\n",
    "# Détection de fraude : Créez votre workflow 🐎"
   ]
  },
  {
   "cell_type": "markdown",
   "id": "430183f5",
   "metadata": {},
   "source": [
    "## Contexte"
   ]
  },
  {
   "cell_type": "markdown",
   "id": "1a2a852c",
   "metadata": {},
   "source": [
    "La préparation des données (également appelée « prétraitement des données ») est le processus de transformation des données brutes afin que les data scientists et data analysts puissent les utiliser via des algorithmes d'apprentissage automatique pour faire des prédictions. \n",
    "\n",
    "La préparation des données joue un rôle clé dans la construction d'un modèle d'apprentissage automatique efficace. En effet, la plupart des algorithmes d'apprentissage automatique nécessitent que les données soient formatées d'une manière très spécifique, de sorte que les jeux de données nécessitent généralement une certaine préparation avant de pouvoir fournir des informations utiles.\n",
    "\n",
    "Dans cet exercice, nous allons utiliser Dataiku et créer notre premier projet pour préparer les données de la société Elo. Elo est une société brésilienne de cartes de paiement.\n",
    "\n",
    "Nous préparerons des données afin de créer un modèle d'apprentissage automatique pour prévenir la fraude par carte de crédit. Nous allons travailler avec trois jeux de données différents :\n",
    "\n",
    "- Credit Card Transactions (January 2017 - April 2018)\n",
    "- Cardholder Data\n",
    "- Merchant Data\n",
    "\n",
    "![](https://data-analytics-fullstack-assets.s3.eu-west-3.amazonaws.com/M10-Predictive_Analysis/D01-Introduction_to_Dataiku/Exercices/d01_TD01_introduction_to_dataiku_image_01.png)"
   ]
  },
  {
   "cell_type": "markdown",
   "id": "982d30c3",
   "metadata": {},
   "source": [
    "## PARTIE I : Créez votre workflow"
   ]
  },
  {
   "cell_type": "markdown",
   "id": "d6b28454",
   "metadata": {},
   "source": [
    "Suivez les étapes suivantes : \n",
    "    \n",
    "1. Créez un nouveau projet Dataiku, nommez votre projet \"Credit Card Fraud\" + votre nom\n",
    "\n",
    "2. Créez 3 jeux de données :\n",
    "    - transactions (2017 et 2018 contiennent des transactions par carte de crédit à la consommation)\n",
    "    - cardholder_info (pointage de crédit pour chaque titulaire de carte)\n",
    "    - marchand_info (table de recherche pour les marchands)\n",
    "\n",
    "3. Grâce à insight par Dataiku répondez aux questions suivantes :\n",
    "    - Quel est le montant d'achat individuel le plus élevé ?\n",
    "    - Quel pourcentage de transactions sont non autorisées (frauduleuses) ?"
   ]
  },
  {
   "cell_type": "markdown",
   "id": "36426431",
   "metadata": {},
   "source": [
    "Réponses :\n",
    "\n",
    "- Quel est le montant d'achat individuel le plus élevé ? 42755.01\n",
    "- Quel pourcentage de transactions sont non autorisées (frauduleuses) ? 9.4"
   ]
  },
  {
   "cell_type": "markdown",
   "id": "acbff84f",
   "metadata": {},
   "source": [
    "Vous pouvez utiliser le lien suivant pour en savoir plus sur Dataiku insight 👉 https://knowledge.dataiku.com/latest/ml-analytics/statistics/tutorial-statistics-interface.html"
   ]
  },
  {
   "cell_type": "markdown",
   "id": "6b2222c3",
   "metadata": {},
   "source": [
    "4. Rassemblez les jeux de données de transactions ensemble\n",
    "5. Joignez l'ensemble de données de transactions aux deux autres ensembles de données avec les détails suivants"
   ]
  },
  {
   "cell_type": "markdown",
   "id": "cd2e9263",
   "metadata": {},
   "source": [
    "Jeu de données de transactions LEFT JOIN avec le jeu de données cardholder_info ON 'card_id' = 'internal_card_mapping' \n",
    "\n",
    "Jeu de données de transactions LEFT JOIN avec le jeu de données marchand_info ON 'merchant_id' et 'merchant_category_id' "
   ]
  },
  {
   "cell_type": "markdown",
   "id": "bc36a815",
   "metadata": {},
   "source": [
    "<div class=\"warning alert-warning\"><strong>IMPORTANT</strong><br>\n",
    "Faites tout cela en UNE recette de jointure !</div>"
   ]
  },
  {
   "cell_type": "markdown",
   "id": "dde38b79",
   "metadata": {},
   "source": [
    "A la fin de cette première étape vous devriez obtenir le flow suivant :\n",
    "\n",
    "![](https://data-analytics-fullstack-assets.s3.eu-west-3.amazonaws.com/M10-Predictive_Analysis/D01-Introduction_to_Dataiku/Exercices/d01_TD01_introduction_to_dataiku_image_02.png)"
   ]
  },
  {
   "cell_type": "code",
   "execution_count": null,
   "id": "188485d3",
   "metadata": {},
   "outputs": [],
   "source": []
  }
 ],
 "metadata": {
  "kernelspec": {
   "display_name": "Python 3 (ipykernel)",
   "language": "python",
   "name": "python3"
  },
  "language_info": {
   "codemirror_mode": {
    "name": "ipython",
    "version": 3
   },
   "file_extension": ".py",
   "mimetype": "text/x-python",
   "name": "python",
   "nbconvert_exporter": "python",
   "pygments_lexer": "ipython3",
   "version": "3.9.13"
  }
 },
 "nbformat": 4,
 "nbformat_minor": 5
}
