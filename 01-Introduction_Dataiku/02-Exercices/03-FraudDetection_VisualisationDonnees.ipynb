{
 "cells": [
  {
   "cell_type": "markdown",
   "id": "ffd21054",
   "metadata": {},
   "source": [
    "![ai](https://scontent.fcdg1-1.fna.fbcdn.net/v/t1.6435-9/118600154_3984699468223263_4182911898048442019_n.png?_nc_cat=107&ccb=1-7&_nc_sid=973b4a&_nc_ohc=-BX9mep6k94AX-t31ve&_nc_ht=scontent.fcdg1-1.fna&oh=00_AfB7d7nJ93I88-nxdoGcWyrbVSA5tmNJpiEwcL1T9cSj6g&oe=64B27796)\n",
    "\n",
    "# Détection de fraude : Visualisez vos données 🗺️"
   ]
  },
  {
   "cell_type": "markdown",
   "id": "81f8343e",
   "metadata": {},
   "source": [
    "## Contexte"
   ]
  },
  {
   "cell_type": "markdown",
   "id": "dd5e3dca",
   "metadata": {},
   "source": [
    "La préparation des données (également appelée « prétraitement des données ») est le processus de transformation des données brutes afin que les data scientists et data analysts puissent les utiliser via des algorithmes d'apprentissage automatique pour faire des prédictions. \n",
    "\n",
    "La préparation des données joue un rôle clé dans la construction d'un modèle d'apprentissage automatique efficace. En effet, la plupart des algorithmes d'apprentissage automatique nécessitent que les données soient formatées d'une manière très spécifique, de sorte que les jeux de données nécessitent généralement une certaine préparation avant de pouvoir fournir des informations utiles.\n",
    "\n",
    "Dans cet exercice, nous allons utiliser Dataiku et créer notre premier projet pour préparer les données de la société Elo. Elo est une société brésilienne de cartes de paiement.\n",
    "\n",
    "Nous préparerons des données afin de créer un modèle d'apprentissage automatique pour prévenir la fraude par carte de crédit. Nous allons travailler avec trois jeux de données différents :\n",
    "\n",
    "- Credit Card Transactions (January 2017 - April 2018)\n",
    "- Cardholder Data\n",
    "- Merchant Data\n",
    "\n",
    "![](https://data-analytics-fullstack-assets.s3.eu-west-3.amazonaws.com/M10-Predictive_Analysis/D01-Introduction_to_Dataiku/Exercices/d01_TD01_introduction_to_dataiku_image_01.png)"
   ]
  },
  {
   "cell_type": "markdown",
   "id": "dce20487",
   "metadata": {},
   "source": [
    "## PARTIE III : Visualisez vos données"
   ]
  },
  {
   "cell_type": "markdown",
   "id": "814b83ad",
   "metadata": {},
   "source": [
    "Avec Dataiku, tous les utilisateurs (techniques ou non) peuvent créer des visualisations efficaces pour comprendre ou partager des informations sur les données au sein de l'équipe ou de l'organisation. Les options de création de graphiques incluent des graphiques à barres, des lignes, des courbes, des dispositions de zones empilées, des graphiques à secteurs, des dispositions en anneau, des boîtes à moustaches, une distribution 2D, des graphiques de levage, des tableaux, des nuages ​​de points, etc. \n",
    "\n",
    "Nous allons cartographier le taux de fraude par État américain. Le but est de savoir quels états ont les taux les plus élevés ? "
   ]
  },
  {
   "cell_type": "markdown",
   "id": "dc96be93",
   "metadata": {},
   "source": [
    "Pour ce faire, vous devez cliquer sur le jeu de données et accéder au graphique :\n",
    "\n",
    "- Chart Type - Filled administrative map\n",
    "- Geo - merchant_location (Region/State)\n",
    "- Fill - authorized_flag count(non NULL)"
   ]
  },
  {
   "cell_type": "markdown",
   "id": "324bca10",
   "metadata": {},
   "source": [
    "<div class=\"warning alert-info\"><strong>REMARQUE</strong><br>\n",
    "Changez l'échantillon en ~250 000 enregistrements aléatoires (menu de gauche) !</div>"
   ]
  },
  {
   "cell_type": "markdown",
   "id": "7d5a796b",
   "metadata": {},
   "source": [
    "<div class=\"warning alert-info\"><strong>REMARQUE</strong><br>\n",
    "Sélectionnez une palette de couleurs (du rouge au vert) !</div>"
   ]
  },
  {
   "cell_type": "markdown",
   "id": "670c8395",
   "metadata": {},
   "source": [
    "![](https://data-analytics-fullstack-assets.s3.eu-west-3.amazonaws.com/M10-Predictive_Analysis/D01-Introduction_to_Dataiku/Exercices/d01_TD03_introduction_to_dataiku_image_01.png)"
   ]
  },
  {
   "cell_type": "code",
   "execution_count": null,
   "id": "fb3622c6",
   "metadata": {},
   "outputs": [],
   "source": []
  }
 ],
 "metadata": {
  "kernelspec": {
   "display_name": "Python 3 (ipykernel)",
   "language": "python",
   "name": "python3"
  },
  "language_info": {
   "codemirror_mode": {
    "name": "ipython",
    "version": 3
   },
   "file_extension": ".py",
   "mimetype": "text/x-python",
   "name": "python",
   "nbconvert_exporter": "python",
   "pygments_lexer": "ipython3",
   "version": "3.9.16+"
  }
 },
 "nbformat": 4,
 "nbformat_minor": 5
}
